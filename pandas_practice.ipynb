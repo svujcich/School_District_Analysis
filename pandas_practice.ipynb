{
 "cells": [
  {
   "cell_type": "code",
   "execution_count": null,
   "id": "a97527bb",
   "metadata": {},
   "outputs": [],
   "source": [
    "# List of high schools\n",
    "high_schools = [\"Hernandez High School\", \"Figueroa High School\",\n",
    "                \"Wilson High School\",\"Wright High School\"]"
   ]
  },
  {
   "cell_type": "code",
   "execution_count": null,
   "id": "3d242969",
   "metadata": {},
   "outputs": [],
   "source": [
    "high_schools\n",
    "#OR\n",
    "print(high_schools)"
   ]
  },
  {
   "cell_type": "code",
   "execution_count": null,
   "id": "d386a34b",
   "metadata": {},
   "outputs": [],
   "source": [
    "for school in high_schools:\n",
    "    print(school)"
   ]
  },
  {
   "cell_type": "code",
   "execution_count": null,
   "id": "50c6634b",
   "metadata": {},
   "outputs": [],
   "source": [
    "#------------------------------------------------"
   ]
  },
  {
   "cell_type": "code",
   "execution_count": null,
   "id": "6ca310a9",
   "metadata": {},
   "outputs": [],
   "source": [
    "# A dictionary of high schools and the type of school.\n",
    "#high_school_types = [{\"High School\": \"Griffin\", \"Type\":\"District\"},\n",
    "                    #{\"High School\": \"Wilson\", \"Type\": \"Charter\"},\n",
    "                    #{\"High School\": \"Wright\", \"Type\": \"Charter\"}]"
   ]
  },
  {
   "cell_type": "code",
   "execution_count": null,
   "id": "d5ed146e",
   "metadata": {},
   "outputs": [],
   "source": [
    "#for school in high_school_types:\n",
    "    #print(school)"
   ]
  },
  {
   "cell_type": "code",
   "execution_count": null,
   "id": "4a1e7617",
   "metadata": {},
   "outputs": [],
   "source": [
    "#-----------------------------------------------------"
   ]
  },
  {
   "cell_type": "code",
   "execution_count": null,
   "id": "20e04644",
   "metadata": {},
   "outputs": [],
   "source": [
    "#Print a series\n",
    "\n",
    "# List of high schools\n",
    "high_schools = [\"Huang High School\",  \"Figueroa High School\", \"Shelton High School\", \"Hernandez High School\",\"Griffin High School\",\"Wilson High School\", \"Cabrera High School\", \"Bailey High School\", \"Holden High School\", \"Pena High School\", \"Wright High School\",\"Rodriguez High School\", \"Johnson High School\", \"Ford High School\", \"Thomas High School\"]  "
   ]
  },
  {
   "cell_type": "code",
   "execution_count": null,
   "id": "e15dd3c3",
   "metadata": {},
   "outputs": [],
   "source": [
    "# Add the Pandas dependency.\n",
    "import pandas as pd"
   ]
  },
  {
   "cell_type": "code",
   "execution_count": null,
   "id": "3038bb4a",
   "metadata": {},
   "outputs": [],
   "source": [
    "#create a panda series from a list\n",
    "school_series = pd.Series(high_schools)\n",
    "school_series"
   ]
  },
  {
   "cell_type": "code",
   "execution_count": null,
   "id": "50ab85ea",
   "metadata": {
    "scrolled": true
   },
   "outputs": [],
   "source": [
    "#for school in school_series:\n",
    "    #print(school)\n",
    "        #OR\n",
    "for index in range(0,len(school_series)):\n",
    "    print(school_series[index])"
   ]
  },
  {
   "cell_type": "code",
   "execution_count": null,
   "id": "58373431",
   "metadata": {},
   "outputs": [],
   "source": [
    "#----------------------------------------"
   ]
  },
  {
   "cell_type": "code",
   "execution_count": null,
   "id": "f6094cd5",
   "metadata": {},
   "outputs": [],
   "source": [
    "#Create a data frame V1\n",
    "\n",
    "# A dictionary of high schools\n",
    "high_school_dicts = [{\"School ID\": 0, \"school_name\": \"Huang High    School\", \"type\": \"District\"},\n",
    "                   {\"School ID\": 1, \"school_name\": \"Figueroa High School\", \"type\": \"District\"},\n",
    "                    {\"School ID\": 2, \"school_name\":\"Shelton High School\", \"type\": \"Charter\"},\n",
    "                    {\"School ID\": 3, \"school_name\":\"Hernandez High School\", \"type\": \"District\"},\n",
    "                    {\"School ID\": 4, \"school_name\":\"Griffin High School\", \"type\": \"Charter\"}]"
   ]
  },
  {
   "cell_type": "code",
   "execution_count": null,
   "id": "23052fb1",
   "metadata": {},
   "outputs": [],
   "source": [
    "school_df = pd.DataFrame(high_school_dicts)\n",
    "school_df"
   ]
  },
  {
   "cell_type": "code",
   "execution_count": null,
   "id": "60c83114",
   "metadata": {},
   "outputs": [],
   "source": [
    "#---------------------------------------------"
   ]
  },
  {
   "cell_type": "code",
   "execution_count": null,
   "id": "95e4cc15",
   "metadata": {},
   "outputs": [],
   "source": [
    "#create a data frame V2\n",
    "\n",
    "# Three separate lists of information on high schools\n",
    "school_id = [0, 1, 2, 3, 4]\n",
    "\n",
    "school_name = [\"Huang High School\", \"Figueroa High School\",\n",
    "\"Shelton High School\", \"Hernandez High School\",\"Griffin High School\"]\n",
    "\n",
    "type_of_school = [\"District\", \"District\", \"Charter\", \"District\",\"Charter\"]"
   ]
  },
  {
   "cell_type": "code",
   "execution_count": null,
   "id": "d6a31547",
   "metadata": {},
   "outputs": [],
   "source": [
    "import pandas as pd"
   ]
  },
  {
   "cell_type": "code",
   "execution_count": null,
   "id": "369a81a1",
   "metadata": {},
   "outputs": [],
   "source": [
    "# Initialize a new DataFrame.\n",
    "schools_df = pd.DataFrame()"
   ]
  },
  {
   "cell_type": "code",
   "execution_count": null,
   "id": "8962ccb3",
   "metadata": {},
   "outputs": [],
   "source": [
    "# Add the list to a new DataFrame.\n",
    "schools_df[\"School ID\"] = school_id\n",
    "schools_df[\"Name\"] = school_name\n",
    "schools_df[\"Type\"] = type_of_school\n",
    "\n",
    "# Print the DataFrame.\n",
    "schools_df"
   ]
  },
  {
   "cell_type": "code",
   "execution_count": null,
   "id": "e4898ada",
   "metadata": {},
   "outputs": [],
   "source": [
    "#--------------------------------------------------"
   ]
  },
  {
   "cell_type": "code",
   "execution_count": null,
   "id": "b38eaa3f",
   "metadata": {},
   "outputs": [],
   "source": [
    "#create a data frame V3\n",
    "\n",
    "# Three separate lists of information on high schools\n",
    "school_id = [0, 1, 2, 3, 4]\n",
    "\n",
    "school_name = [\"Huang High School\", \"Figueroa High School\",\n",
    "\"Shelton High School\", \"Hernandez High School\",\"Griffin High School\"]\n",
    "\n",
    "type_of_school = [\"District\", \"District\", \"Charter\", \"District\",\"Charter\"]"
   ]
  },
  {
   "cell_type": "code",
   "execution_count": null,
   "id": "c874fb0b",
   "metadata": {},
   "outputs": [],
   "source": [
    "import pandas as pd"
   ]
  },
  {
   "cell_type": "code",
   "execution_count": null,
   "id": "e17efa0f",
   "metadata": {},
   "outputs": [],
   "source": [
    "# Create a dictionary of information on high schools.\n",
    "high_schools_dict = {'School ID': school_id, 'school_name':school_name, 'type':type_of_school}"
   ]
  },
  {
   "cell_type": "code",
   "execution_count": null,
   "id": "6ce5a874",
   "metadata": {},
   "outputs": [],
   "source": [
    "# Initialize a new DataFrame.\n",
    "schools_df = pd.DataFrame()"
   ]
  },
  {
   "cell_type": "code",
   "execution_count": null,
   "id": "ba66dae6",
   "metadata": {},
   "outputs": [],
   "source": [
    "# Add the list to a new DataFrame.\n",
    "schools_df[\"School ID\"] = school_id\n",
    "schools_df[\"Name\"] = school_name\n",
    "schools_df[\"Type\"] = type_of_school\n",
    "\n",
    "\n",
    "# Print the DataFrame.\n",
    "schools_df\n"
   ]
  },
  {
   "cell_type": "code",
   "execution_count": null,
   "id": "d7ed0430",
   "metadata": {},
   "outputs": [],
   "source": [
    "#get column names\n",
    "schools_df.index"
   ]
  },
  {
   "cell_type": "code",
   "execution_count": null,
   "id": "b93e105b",
   "metadata": {},
   "outputs": [],
   "source": [
    "# get the index number\n",
    "schools_df.index\n"
   ]
  },
  {
   "cell_type": "code",
   "execution_count": null,
   "id": "1aa0df17",
   "metadata": {},
   "outputs": [],
   "source": [
    "#get values\n",
    "schools_df.values\n",
    "        #OR\n",
    "#school_df.values[1]"
   ]
  },
  {
   "cell_type": "code",
   "execution_count": null,
   "id": "1a5ce397",
   "metadata": {},
   "outputs": [],
   "source": [
    "#--------------------------------"
   ]
  },
  {
   "cell_type": "code",
   "execution_count": 6,
   "id": "1008ff84",
   "metadata": {},
   "outputs": [
    {
     "data": {
      "text/html": [
       "<div>\n",
       "<style scoped>\n",
       "    .dataframe tbody tr th:only-of-type {\n",
       "        vertical-align: middle;\n",
       "    }\n",
       "\n",
       "    .dataframe tbody tr th {\n",
       "        vertical-align: top;\n",
       "    }\n",
       "\n",
       "    .dataframe thead th {\n",
       "        text-align: right;\n",
       "    }\n",
       "</style>\n",
       "<table border=\"1\" class=\"dataframe\">\n",
       "  <thead>\n",
       "    <tr style=\"text-align: right;\">\n",
       "      <th></th>\n",
       "      <th>School ID</th>\n",
       "      <th>Name</th>\n",
       "      <th>Type</th>\n",
       "    </tr>\n",
       "  </thead>\n",
       "  <tbody>\n",
       "    <tr>\n",
       "      <th>0</th>\n",
       "      <td>0</td>\n",
       "      <td>Huang High School</td>\n",
       "      <td>District</td>\n",
       "    </tr>\n",
       "    <tr>\n",
       "      <th>1</th>\n",
       "      <td>1</td>\n",
       "      <td>Figueroa High School</td>\n",
       "      <td>District</td>\n",
       "    </tr>\n",
       "    <tr>\n",
       "      <th>2</th>\n",
       "      <td>2</td>\n",
       "      <td>Shelton High School</td>\n",
       "      <td>Charter</td>\n",
       "    </tr>\n",
       "    <tr>\n",
       "      <th>3</th>\n",
       "      <td>3</td>\n",
       "      <td>Hernandez High School</td>\n",
       "      <td>District</td>\n",
       "    </tr>\n",
       "    <tr>\n",
       "      <th>4</th>\n",
       "      <td>4</td>\n",
       "      <td>Griffin High School</td>\n",
       "      <td>Charter</td>\n",
       "    </tr>\n",
       "    <tr>\n",
       "      <th>5</th>\n",
       "      <td>5</td>\n",
       "      <td>Wilson High School</td>\n",
       "      <td>District</td>\n",
       "    </tr>\n",
       "    <tr>\n",
       "      <th>6</th>\n",
       "      <td>6</td>\n",
       "      <td>Cabrera High School</td>\n",
       "      <td>District</td>\n",
       "    </tr>\n",
       "    <tr>\n",
       "      <th>7</th>\n",
       "      <td>7</td>\n",
       "      <td>Bailey High School</td>\n",
       "      <td>Charter</td>\n",
       "    </tr>\n",
       "    <tr>\n",
       "      <th>8</th>\n",
       "      <td>8</td>\n",
       "      <td>Holden High School</td>\n",
       "      <td>District</td>\n",
       "    </tr>\n",
       "    <tr>\n",
       "      <th>9</th>\n",
       "      <td>9</td>\n",
       "      <td>Pena High School</td>\n",
       "      <td>Charter</td>\n",
       "    </tr>\n",
       "    <tr>\n",
       "      <th>10</th>\n",
       "      <td>10</td>\n",
       "      <td>Wright High School</td>\n",
       "      <td>District</td>\n",
       "    </tr>\n",
       "    <tr>\n",
       "      <th>11</th>\n",
       "      <td>11</td>\n",
       "      <td>Rodriguez High School</td>\n",
       "      <td>District</td>\n",
       "    </tr>\n",
       "    <tr>\n",
       "      <th>12</th>\n",
       "      <td>12</td>\n",
       "      <td>Johnson High School</td>\n",
       "      <td>Charter</td>\n",
       "    </tr>\n",
       "    <tr>\n",
       "      <th>13</th>\n",
       "      <td>13</td>\n",
       "      <td>Ford High School</td>\n",
       "      <td>District</td>\n",
       "    </tr>\n",
       "    <tr>\n",
       "      <th>14</th>\n",
       "      <td>14</td>\n",
       "      <td>Thomas High School</td>\n",
       "      <td>Charter</td>\n",
       "    </tr>\n",
       "  </tbody>\n",
       "</table>\n",
       "</div>"
      ],
      "text/plain": [
       "    School ID                   Name      Type\n",
       "0           0      Huang High School  District\n",
       "1           1   Figueroa High School  District\n",
       "2           2    Shelton High School   Charter\n",
       "3           3  Hernandez High School  District\n",
       "4           4    Griffin High School   Charter\n",
       "5           5     Wilson High School  District\n",
       "6           6    Cabrera High School  District\n",
       "7           7     Bailey High School   Charter\n",
       "8           8     Holden High School  District\n",
       "9           9       Pena High School   Charter\n",
       "10         10     Wright High School  District\n",
       "11         11  Rodriguez High School  District\n",
       "12         12    Johnson High School   Charter\n",
       "13         13       Ford High School  District\n",
       "14         14     Thomas High School   Charter"
      ]
     },
     "execution_count": 6,
     "metadata": {},
     "output_type": "execute_result"
    }
   ],
   "source": [
    "#create a list for each column and add each list to the new pandas DataFrame\n",
    "#comma after each list\n",
    "school_dict = {\n",
    "    \"School ID\": [0,1,2,3,4,5,6,7,8,9,10,11,12,13,14],\n",
    "    \"Name\":[\"Huang High School\",\"Figueroa High School\",\"Shelton High School\",\"Hernandez High School\",\"Griffin High School\",\"Wilson High School\",\"Cabrera High School\",\"Bailey High School\",\"Holden High School\",\"Pena High School\",\"Wright High School\",\"Rodriguez High School\",\"Johnson High School\",\"Ford High School\",\"Thomas High School\"], \n",
    "    \"Type\":[\"District\", \"District\", \"Charter\", \"District\", \"Charter\", \"District\", \"District\", \"Charter\", \"District\", \"Charter\", \"District\", \"District\", \"Charter\", \"District\", \"Charter\"]}\n",
    "\n",
    "import pandas as pd\n",
    "pd.DataFrame(school_dict)"
   ]
  },
  {
   "cell_type": "code",
   "execution_count": null,
   "id": "5a55764b",
   "metadata": {},
   "outputs": [],
   "source": []
  }
 ],
 "metadata": {
  "kernelspec": {
   "display_name": "PythonData",
   "language": "python",
   "name": "pythondata"
  },
  "language_info": {
   "codemirror_mode": {
    "name": "ipython",
    "version": 3
   },
   "file_extension": ".py",
   "mimetype": "text/x-python",
   "name": "python",
   "nbconvert_exporter": "python",
   "pygments_lexer": "ipython3",
   "version": "3.7.13"
  }
 },
 "nbformat": 4,
 "nbformat_minor": 5
}
